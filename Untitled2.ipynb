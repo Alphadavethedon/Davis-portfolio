{
  "nbformat": 4,
  "nbformat_minor": 0,
  "metadata": {
    "colab": {
      "provenance": [],
      "authorship_tag": "ABX9TyM5aH0BjJbgjsPSl9RrXpaF",
      "include_colab_link": true
    },
    "kernelspec": {
      "name": "python3",
      "display_name": "Python 3"
    },
    "language_info": {
      "name": "python"
    }
  },
  "cells": [
    {
      "cell_type": "markdown",
      "metadata": {
        "id": "view-in-github",
        "colab_type": "text"
      },
      "source": [
        "<a href=\"https://colab.research.google.com/github/Alphadavethedon/Davis-portfolio/blob/main/Untitled2.ipynb\" target=\"_parent\"><img src=\"https://colab.research.google.com/assets/colab-badge.svg\" alt=\"Open In Colab\"/></a>"
      ]
    },
    {
      "cell_type": "code",
      "execution_count": null,
      "metadata": {
        "id": "ffzM5LXYB-DS"
      },
      "outputs": [],
      "source": [
        "\n",
        "num1 = float(input(\"1: \"))\n",
        "num2 = float(input(\"2: \"))\n",
        "operation = input(\"+ : \")\n",
        "\n",
        "\n",
        "if operation == '+':\n",
        "    result = num1 + num2\n",
        "elif operation == '-':\n",
        "    result = num1 - num2\n",
        "elif operation == '*':\n",
        "    result = num1 * num2\n",
        "elif operation == '/':\n",
        "\n",
        "    if num2 != 0:\n",
        "        result = num1 / num2\n",
        "    else:\n",
        "        result = \"Error! Division by zero.\"\n",
        "else:\n",
        "    result = \"Invalid operation.\"\n",
        "\n",
        "\n",
        "print(f\"The result of {num1} {operation} {num2} is: {result}\")\n"
      ]
    }
  ]
}